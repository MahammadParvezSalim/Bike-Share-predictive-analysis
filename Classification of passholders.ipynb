{
 "cells": [
  {
   "cell_type": "code",
   "execution_count": 1,
   "metadata": {},
   "outputs": [],
   "source": [
    "# standard library imports\n",
    "import pandas as pd\n",
    "import numpy as np\n",
    "import warnings\n",
    "import sys\n",
    "#import pandas_profiling\n",
    "import seaborn as sns\n",
    "import matplotlib.pyplot as plt\n",
    "from sklearn.cluster import KMeans\n",
    "from scipy import stats\n",
    "\n",
    "# third party imports\n",
    "\n",
    "# suppress warnings\n",
    "if not sys.warnoptions:\n",
    "    warnings.simplefilter(\"ignore\")\n",
    "    \n",
    "# graph output\n",
    "%matplotlib inline"
   ]
  },
  {
   "cell_type": "code",
   "execution_count": 2,
   "metadata": {},
   "outputs": [],
   "source": [
    "import os\n",
    "\n",
    "os.chdir('E:/BikeShareResearch/ARIMA_MERGED')"
   ]
  },
  {
   "cell_type": "code",
   "execution_count": 49,
   "metadata": {},
   "outputs": [],
   "source": [
    "# read in the csv data files\n",
    "\n",
    "def getdata_csv(file):\n",
    "    '''\n",
    "    Args:\n",
    "        csv file name\n",
    "    Output:\n",
    "        dataframe of the csv data\n",
    "    '''\n",
    "\n",
    "    outdf = pd.read_csv(file)\n",
    "    return outdf\n",
    "\n",
    "\n",
    "\n",
    "# read quarterly trip data\n",
    "df1 = getdata_csv('E:/BikeShareResearch/ARIMA_MERGED/metro-bike-share-trip-data.csv')"
   ]
  },
  {
   "cell_type": "code",
   "execution_count": 50,
   "metadata": {},
   "outputs": [
    {
     "data": {
      "text/plain": [
       "Trip ID                                   0\n",
       "Duration                                  0\n",
       "Start Time                                0\n",
       "End Time                                  0\n",
       "Starting Station ID                      19\n",
       "Starting Station Latitude                48\n",
       "Starting Station Longitude               48\n",
       "Ending Station ID                        96\n",
       "Ending Station Latitude                1051\n",
       "Ending Station Longitude               1051\n",
       "Bike ID                                  10\n",
       "Plan Duration                           766\n",
       "Trip Route Category                       0\n",
       "Passholder Type                           0\n",
       "Starting Lat-Long                     33805\n",
       "Ending Lat-Long                        1051\n",
       "Neighborhood Councils (Certified)     33837\n",
       "Council Districts                     33837\n",
       "Zip Codes                             33837\n",
       "LA Specific Plans                    116624\n",
       "Precinct Boundaries                    1099\n",
       "Census Tracts                          1099\n",
       "dtype: int64"
      ]
     },
     "execution_count": 50,
     "metadata": {},
     "output_type": "execute_result"
    }
   ],
   "source": [
    "df1.isna().sum()"
   ]
  },
  {
   "cell_type": "code",
   "execution_count": 51,
   "metadata": {},
   "outputs": [
    {
     "name": "stdout",
     "output_type": "stream",
     "text": [
      "<class 'pandas.core.frame.DataFrame'>\n",
      "RangeIndex: 132427 entries, 0 to 132426\n",
      "Data columns (total 22 columns):\n",
      "Trip ID                              132427 non-null int64\n",
      "Duration                             132427 non-null int64\n",
      "Start Time                           132427 non-null object\n",
      "End Time                             132427 non-null object\n",
      "Starting Station ID                  132408 non-null float64\n",
      "Starting Station Latitude            132379 non-null float64\n",
      "Starting Station Longitude           132379 non-null float64\n",
      "Ending Station ID                    132331 non-null float64\n",
      "Ending Station Latitude              131376 non-null float64\n",
      "Ending Station Longitude             131376 non-null float64\n",
      "Bike ID                              132417 non-null float64\n",
      "Plan Duration                        131661 non-null float64\n",
      "Trip Route Category                  132427 non-null object\n",
      "Passholder Type                      132427 non-null object\n",
      "Starting Lat-Long                    98622 non-null object\n",
      "Ending Lat-Long                      131376 non-null object\n",
      "Neighborhood Councils (Certified)    98590 non-null float64\n",
      "Council Districts                    98590 non-null float64\n",
      "Zip Codes                            98590 non-null float64\n",
      "LA Specific Plans                    15803 non-null float64\n",
      "Precinct Boundaries                  131328 non-null float64\n",
      "Census Tracts                        131328 non-null float64\n",
      "dtypes: float64(14), int64(2), object(6)\n",
      "memory usage: 22.2+ MB\n"
     ]
    }
   ],
   "source": [
    "df1.info()"
   ]
  },
  {
   "cell_type": "code",
   "execution_count": 52,
   "metadata": {},
   "outputs": [
    {
     "data": {
      "text/plain": [
       "True"
      ]
     },
     "execution_count": 52,
     "metadata": {},
     "output_type": "execute_result"
    }
   ],
   "source": [
    "\n",
    "df1.isnull().any().any()"
   ]
  },
  {
   "cell_type": "code",
   "execution_count": 53,
   "metadata": {},
   "outputs": [],
   "source": [
    "df1 = df1.dropna()"
   ]
  },
  {
   "cell_type": "code",
   "execution_count": 55,
   "metadata": {},
   "outputs": [
    {
     "data": {
      "text/plain": [
       "<matplotlib.axes._subplots.AxesSubplot at 0x1fc7beaea90>"
      ]
     },
     "execution_count": 55,
     "metadata": {},
     "output_type": "execute_result"
    },
    {
     "data": {
      "image/png": "[encoded data removed]",
      "text/plain": [
       "<Figure size 432x288 with 1 Axes>"
      ]
     },
     "metadata": {
      "needs_background": "light"
     },
     "output_type": "display_data"
    }
   ],
   "source": [
    "sns.distplot(df1['Duration'])"
   ]
  },
  {
   "cell_type": "code",
   "execution_count": 57,
   "metadata": {},
   "outputs": [
    {
     "name": "stdout",
     "output_type": "stream",
     "text": [
      "0th percentile = 60.0\n",
      "1th percentile = 120.0\n",
      "5th percentile = 240.0\n",
      "20th percentile = 420.0\n",
      "30th percentile = 480.0\n",
      "40th percentile = 600.0\n",
      "50th percentile = 720.0\n",
      "60th percentile = 900.0\n",
      "70th percentile = 1080.0\n",
      "80th percentile = 1440.0\n",
      "90th percentile = 2520.0\n",
      "100th percentile = 86400.0\n"
     ]
    }
   ],
   "source": [
    "#These is no explicit breakthrough in data distribution that could cleary testify that some values are outliers. Also there are no 0 values. \n",
    "#It is resonable to normalize distribution of this column by a logarithm.\n",
    "def percentiles(column, percentiles):\n",
    "    for percentile in percentiles:\n",
    "        print('{0}th percentile = {1}'.format(percentile, np.percentile(column,percentile)))\n",
    "        \n",
    "percentiles(df1['Duration'],[0,1,5,20,30,40,50,60,70,80,90,100])"
   ]
  },
  {
   "cell_type": "code",
   "execution_count": 95,
   "metadata": {},
   "outputs": [
    {
     "data": {
      "text/plain": [
       "<matplotlib.axes._subplots.AxesSubplot at 0x1fc63fe8128>"
      ]
     },
     "execution_count": 95,
     "metadata": {},
     "output_type": "execute_result"
    },
    {
     "data": {
      "image/png": "[encoded data removed]",
      "text/plain": [
       "<Figure size 432x288 with 1 Axes>"
      ]
     },
     "metadata": {
      "needs_background": "light"
     },
     "output_type": "display_data"
    }
   ],
   "source": [
    "df1['Duration_log'] = np.log(df1['Duration'])\n",
    "sns.distplot(df1['Duration_log'])"
   ]
  },
  {
   "cell_type": "code",
   "execution_count": 96,
   "metadata": {},
   "outputs": [
    {
     "name": "stdout",
     "output_type": "stream",
     "text": [
      "Trip route categories:  ['Round Trip' 'One Way']\n",
      "Passholder Types:  ['Monthly Pass' 'Walk-up' 'Flex Pass']\n"
     ]
    }
   ],
   "source": [
    "print('Trip route categories: ',df1['Trip Route Category'].unique())\n",
    "print('Passholder Types: ',df1['Passholder Type'].unique())"
   ]
  },
  {
   "cell_type": "code",
   "execution_count": 97,
   "metadata": {},
   "outputs": [
    {
     "data": {
      "text/plain": [
       "<seaborn.axisgrid.FacetGrid at 0x1fc78770748>"
      ]
     },
     "execution_count": 97,
     "metadata": {},
     "output_type": "execute_result"
    },
    {
     "data": {
      "image/png": "[encoded data removed]",
      "text/plain": [
       "<Figure size 360x360 with 1 Axes>"
      ]
     },
     "metadata": {
      "needs_background": "light"
     },
     "output_type": "display_data"
    }
   ],
   "source": [
    "sns.catplot(x = 'Passholder Type', y = 'Duration', data = df1)"
   ]
  },
  {
   "cell_type": "code",
   "execution_count": 174,
   "metadata": {},
   "outputs": [
    {
     "data": {
      "text/plain": [
       "<seaborn.axisgrid.FacetGrid at 0x1fc5d4d4240>"
      ]
     },
     "execution_count": 174,
     "metadata": {},
     "output_type": "execute_result"
    },
    {
     "data": {
      "image/png": "[encoded data removed]",
      "text/plain": [
       "<Figure size 360x360 with 1 Axes>"
      ]
     },
     "metadata": {
      "needs_background": "light"
     },
     "output_type": "display_data"
    }
   ],
   "source": [
    "sns.catplot(x = 'Passholder Type', y = 'Distance', data = df1)"
   ]
  },
  {
   "cell_type": "code",
   "execution_count": 98,
   "metadata": {},
   "outputs": [],
   "source": [
    "import pandas as pd\n",
    "import numpy as np\n",
    "import seaborn as sns\n",
    "from sklearn.linear_model import LogisticRegression\n",
    "from sklearn.metrics import accuracy_score\n",
    "from sklearn.model_selection import train_test_split\n",
    "from sklearn.tree import DecisionTreeClassifier\n",
    "from sklearn.ensemble import ExtraTreesClassifier\n",
    "\n",
    "pd.set_option('display.max_columns', None)\n",
    "import math\n",
    "\n",
    "def distance_between_coordinates(lat1, lon1, lat2, lon2):\n",
    "    earth_radius_km = 6371\n",
    "    \n",
    "    lat1 = math.radians(lat1)\n",
    "    lat2 = math.radians(lat2)\n",
    "    lon1 = math.radians(lon1)\n",
    "    lon2 = math.radians(lon2)\n",
    "    d_lat = lat2 - lat1\n",
    "    d_lon = lon2 - lon1\n",
    "    \n",
    "    a = math.sin(d_lat / 2)**2 + math.cos(lat1) * math.cos(lat2) * math.sin(d_lon / 2)**2\n",
    "    c = 2 * math.atan2(math.sqrt(a), math.sqrt(1 - a))\n",
    "    return  earth_radius_km * c\n"
   ]
  },
  {
   "cell_type": "code",
   "execution_count": 99,
   "metadata": {},
   "outputs": [],
   "source": [
    "df1['Distance'] = df1.apply(lambda x: distance_between_coordinates(x['Starting Station Latitude'],x['Starting Station Longitude'],x['Ending Station Latitude'],x['Ending Station Longitude']),axis = 1)"
   ]
  },
  {
   "cell_type": "code",
   "execution_count": 100,
   "metadata": {},
   "outputs": [],
   "source": [
    "df1_copy = df1[df1.Distance > 0]"
   ]
  },
  {
   "cell_type": "code",
   "execution_count": 101,
   "metadata": {},
   "outputs": [
    {
     "data": {
      "text/html": [
       "<div>\n",
       "<style scoped>\n",
       "    .dataframe tbody tr th:only-of-type {\n",
       "        vertical-align: middle;\n",
       "    }\n",
       "\n",
       "    .dataframe tbody tr th {\n",
       "        vertical-align: top;\n",
       "    }\n",
       "\n",
       "    .dataframe thead th {\n",
       "        text-align: right;\n",
       "    }\n",
       "</style>\n",
       "<table border=\"1\" class=\"dataframe\">\n",
       "  <thead>\n",
       "    <tr style=\"text-align: right;\">\n",
       "      <th></th>\n",
       "      <th>Trip ID</th>\n",
       "      <th>Duration</th>\n",
       "      <th>Start Time</th>\n",
       "      <th>End Time</th>\n",
       "      <th>Starting Station ID</th>\n",
       "      <th>Starting Station Latitude</th>\n",
       "      <th>Starting Station Longitude</th>\n",
       "      <th>Ending Station ID</th>\n",
       "      <th>Ending Station Latitude</th>\n",
       "      <th>Ending Station Longitude</th>\n",
       "      <th>Bike ID</th>\n",
       "      <th>Plan Duration</th>\n",
       "      <th>Trip Route Category</th>\n",
       "      <th>Passholder Type</th>\n",
       "      <th>Starting Lat-Long</th>\n",
       "      <th>Ending Lat-Long</th>\n",
       "      <th>Neighborhood Councils (Certified)</th>\n",
       "      <th>Council Districts</th>\n",
       "      <th>Zip Codes</th>\n",
       "      <th>LA Specific Plans</th>\n",
       "      <th>Precinct Boundaries</th>\n",
       "      <th>Census Tracts</th>\n",
       "      <th>Duration_log</th>\n",
       "      <th>Distance</th>\n",
       "    </tr>\n",
       "  </thead>\n",
       "  <tbody>\n",
       "    <tr>\n",
       "      <th>2352</th>\n",
       "      <td>11688972</td>\n",
       "      <td>720</td>\n",
       "      <td>2016-10-29T14:09:00.000</td>\n",
       "      <td>2016-10-29T14:21:00.000</td>\n",
       "      <td>3055.0</td>\n",
       "      <td>34.044159</td>\n",
       "      <td>-118.251579</td>\n",
       "      <td>3068.0</td>\n",
       "      <td>34.053200</td>\n",
       "      <td>-118.250954</td>\n",
       "      <td>6188.0</td>\n",
       "      <td>0.0</td>\n",
       "      <td>One Way</td>\n",
       "      <td>Walk-up</td>\n",
       "      <td>{'longitude': '-118.251579', 'latitude': '34.0...</td>\n",
       "      <td>{'longitude': '-118.250954', 'latitude': '34.0...</td>\n",
       "      <td>76.0</td>\n",
       "      <td>9.0</td>\n",
       "      <td>23075.0</td>\n",
       "      <td>37.0</td>\n",
       "      <td>1183.0</td>\n",
       "      <td>545.0</td>\n",
       "      <td>6.579251</td>\n",
       "      <td>1.006961</td>\n",
       "    </tr>\n",
       "    <tr>\n",
       "      <th>2354</th>\n",
       "      <td>15969970</td>\n",
       "      <td>360</td>\n",
       "      <td>2016-12-14T17:21:00.000</td>\n",
       "      <td>2016-12-14T17:27:00.000</td>\n",
       "      <td>3030.0</td>\n",
       "      <td>34.051941</td>\n",
       "      <td>-118.243530</td>\n",
       "      <td>3014.0</td>\n",
       "      <td>34.056610</td>\n",
       "      <td>-118.237213</td>\n",
       "      <td>6521.0</td>\n",
       "      <td>0.0</td>\n",
       "      <td>One Way</td>\n",
       "      <td>Walk-up</td>\n",
       "      <td>{'longitude': '-118.24353', 'latitude': '34.05...</td>\n",
       "      <td>{'longitude': '-118.237213', 'latitude': '34.0...</td>\n",
       "      <td>76.0</td>\n",
       "      <td>9.0</td>\n",
       "      <td>22728.0</td>\n",
       "      <td>27.0</td>\n",
       "      <td>1322.0</td>\n",
       "      <td>532.0</td>\n",
       "      <td>5.886104</td>\n",
       "      <td>0.779880</td>\n",
       "    </tr>\n",
       "    <tr>\n",
       "      <th>2370</th>\n",
       "      <td>14708324</td>\n",
       "      <td>420</td>\n",
       "      <td>2016-11-29T14:27:00.000</td>\n",
       "      <td>2016-11-29T14:34:00.000</td>\n",
       "      <td>3030.0</td>\n",
       "      <td>34.051941</td>\n",
       "      <td>-118.243530</td>\n",
       "      <td>3014.0</td>\n",
       "      <td>34.056610</td>\n",
       "      <td>-118.237213</td>\n",
       "      <td>6521.0</td>\n",
       "      <td>30.0</td>\n",
       "      <td>One Way</td>\n",
       "      <td>Monthly Pass</td>\n",
       "      <td>{'longitude': '-118.24353', 'latitude': '34.05...</td>\n",
       "      <td>{'longitude': '-118.237213', 'latitude': '34.0...</td>\n",
       "      <td>76.0</td>\n",
       "      <td>9.0</td>\n",
       "      <td>22728.0</td>\n",
       "      <td>27.0</td>\n",
       "      <td>1322.0</td>\n",
       "      <td>532.0</td>\n",
       "      <td>6.040255</td>\n",
       "      <td>0.779880</td>\n",
       "    </tr>\n",
       "    <tr>\n",
       "      <th>2386</th>\n",
       "      <td>10985299</td>\n",
       "      <td>1980</td>\n",
       "      <td>2016-10-22T14:11:00.000</td>\n",
       "      <td>2016-10-22T14:44:00.000</td>\n",
       "      <td>3078.0</td>\n",
       "      <td>34.064281</td>\n",
       "      <td>-118.238937</td>\n",
       "      <td>3049.0</td>\n",
       "      <td>34.056969</td>\n",
       "      <td>-118.253593</td>\n",
       "      <td>6061.0</td>\n",
       "      <td>0.0</td>\n",
       "      <td>One Way</td>\n",
       "      <td>Walk-up</td>\n",
       "      <td>{'longitude': '-118.238937', 'latitude': '34.0...</td>\n",
       "      <td>{'longitude': '-118.253593', 'latitude': '34.0...</td>\n",
       "      <td>28.0</td>\n",
       "      <td>11.0</td>\n",
       "      <td>22728.0</td>\n",
       "      <td>37.0</td>\n",
       "      <td>1262.0</td>\n",
       "      <td>544.0</td>\n",
       "      <td>7.590852</td>\n",
       "      <td>1.576014</td>\n",
       "    </tr>\n",
       "    <tr>\n",
       "      <th>2398</th>\n",
       "      <td>14105305</td>\n",
       "      <td>420</td>\n",
       "      <td>2016-11-21T17:43:00.000</td>\n",
       "      <td>2016-11-21T17:50:00.000</td>\n",
       "      <td>3030.0</td>\n",
       "      <td>34.051941</td>\n",
       "      <td>-118.243530</td>\n",
       "      <td>3014.0</td>\n",
       "      <td>34.056610</td>\n",
       "      <td>-118.237213</td>\n",
       "      <td>6283.0</td>\n",
       "      <td>30.0</td>\n",
       "      <td>One Way</td>\n",
       "      <td>Monthly Pass</td>\n",
       "      <td>{'longitude': '-118.24353', 'latitude': '34.05...</td>\n",
       "      <td>{'longitude': '-118.237213', 'latitude': '34.0...</td>\n",
       "      <td>76.0</td>\n",
       "      <td>9.0</td>\n",
       "      <td>22728.0</td>\n",
       "      <td>27.0</td>\n",
       "      <td>1322.0</td>\n",
       "      <td>532.0</td>\n",
       "      <td>6.040255</td>\n",
       "      <td>0.779880</td>\n",
       "    </tr>\n",
       "  </tbody>\n",
       "</table>\n",
       "</div>"
      ],
      "text/plain": [
       "       Trip ID  Duration               Start Time                 End Time  \\\n",
       "2352  11688972       720  2016-10-29T14:09:00.000  2016-10-29T14:21:00.000   \n",
       "2354  15969970       360  2016-12-14T17:21:00.000  2016-12-14T17:27:00.000   \n",
       "2370  14708324       420  2016-11-29T14:27:00.000  2016-11-29T14:34:00.000   \n",
       "2386  10985299      1980  2016-10-22T14:11:00.000  2016-10-22T14:44:00.000   \n",
       "2398  14105305       420  2016-11-21T17:43:00.000  2016-11-21T17:50:00.000   \n",
       "\n",
       "      Starting Station ID  Starting Station Latitude  \\\n",
       "2352               3055.0                  34.044159   \n",
       "2354               3030.0                  34.051941   \n",
       "2370               3030.0                  34.051941   \n",
       "2386               3078.0                  34.064281   \n",
       "2398               3030.0                  34.051941   \n",
       "\n",
       "      Starting Station Longitude  Ending Station ID  Ending Station Latitude  \\\n",
       "2352                 -118.251579             3068.0                34.053200   \n",
       "2354                 -118.243530             3014.0                34.056610   \n",
       "2370                 -118.243530             3014.0                34.056610   \n",
       "2386                 -118.238937             3049.0                34.056969   \n",
       "2398                 -118.243530             3014.0                34.056610   \n",
       "\n",
       "      Ending Station Longitude  Bike ID  Plan Duration Trip Route Category  \\\n",
       "2352               -118.250954   6188.0            0.0             One Way   \n",
       "2354               -118.237213   6521.0            0.0             One Way   \n",
       "2370               -118.237213   6521.0           30.0             One Way   \n",
       "2386               -118.253593   6061.0            0.0             One Way   \n",
       "2398               -118.237213   6283.0           30.0             One Way   \n",
       "\n",
       "     Passholder Type                                  Starting Lat-Long  \\\n",
       "2352         Walk-up  {'longitude': '-118.251579', 'latitude': '34.0...   \n",
       "2354         Walk-up  {'longitude': '-118.24353', 'latitude': '34.05...   \n",
       "2370    Monthly Pass  {'longitude': '-118.24353', 'latitude': '34.05...   \n",
       "2386         Walk-up  {'longitude': '-118.238937', 'latitude': '34.0...   \n",
       "2398    Monthly Pass  {'longitude': '-118.24353', 'latitude': '34.05...   \n",
       "\n",
       "                                        Ending Lat-Long  \\\n",
       "2352  {'longitude': '-118.250954', 'latitude': '34.0...   \n",
       "2354  {'longitude': '-118.237213', 'latitude': '34.0...   \n",
       "2370  {'longitude': '-118.237213', 'latitude': '34.0...   \n",
       "2386  {'longitude': '-118.253593', 'latitude': '34.0...   \n",
       "2398  {'longitude': '-118.237213', 'latitude': '34.0...   \n",
       "\n",
       "      Neighborhood Councils (Certified)  Council Districts  Zip Codes  \\\n",
       "2352                               76.0                9.0    23075.0   \n",
       "2354                               76.0                9.0    22728.0   \n",
       "2370                               76.0                9.0    22728.0   \n",
       "2386                               28.0               11.0    22728.0   \n",
       "2398                               76.0                9.0    22728.0   \n",
       "\n",
       "      LA Specific Plans  Precinct Boundaries  Census Tracts  Duration_log  \\\n",
       "2352               37.0               1183.0          545.0      6.579251   \n",
       "2354               27.0               1322.0          532.0      5.886104   \n",
       "2370               27.0               1322.0          532.0      6.040255   \n",
       "2386               37.0               1262.0          544.0      7.590852   \n",
       "2398               27.0               1322.0          532.0      6.040255   \n",
       "\n",
       "      Distance  \n",
       "2352  1.006961  \n",
       "2354  0.779880  \n",
       "2370  0.779880  \n",
       "2386  1.576014  \n",
       "2398  0.779880  "
      ]
     },
     "execution_count": 101,
     "metadata": {},
     "output_type": "execute_result"
    }
   ],
   "source": [
    "df1_copy.head()"
   ]
  },
  {
   "cell_type": "code",
   "execution_count": 102,
   "metadata": {},
   "outputs": [
    {
     "data": {
      "text/plain": [
       "(10335, 24)"
      ]
     },
     "execution_count": 102,
     "metadata": {},
     "output_type": "execute_result"
    }
   ],
   "source": [
    "df1_copy.shape"
   ]
  },
  {
   "cell_type": "code",
   "execution_count": 103,
   "metadata": {},
   "outputs": [
    {
     "data": {
      "text/html": [
       "<div>\n",
       "<style scoped>\n",
       "    .dataframe tbody tr th:only-of-type {\n",
       "        vertical-align: middle;\n",
       "    }\n",
       "\n",
       "    .dataframe tbody tr th {\n",
       "        vertical-align: top;\n",
       "    }\n",
       "\n",
       "    .dataframe thead th {\n",
       "        text-align: right;\n",
       "    }\n",
       "</style>\n",
       "<table border=\"1\" class=\"dataframe\">\n",
       "  <thead>\n",
       "    <tr style=\"text-align: right;\">\n",
       "      <th></th>\n",
       "      <th>Trip ID</th>\n",
       "      <th>Duration</th>\n",
       "      <th>Start Time</th>\n",
       "      <th>End Time</th>\n",
       "      <th>Starting Station ID</th>\n",
       "      <th>Starting Station Latitude</th>\n",
       "      <th>Starting Station Longitude</th>\n",
       "      <th>Ending Station ID</th>\n",
       "      <th>Ending Station Latitude</th>\n",
       "      <th>Ending Station Longitude</th>\n",
       "      <th>Bike ID</th>\n",
       "      <th>Plan Duration</th>\n",
       "      <th>Trip Route Category</th>\n",
       "      <th>Passholder Type</th>\n",
       "      <th>Starting Lat-Long</th>\n",
       "      <th>Ending Lat-Long</th>\n",
       "      <th>Neighborhood Councils (Certified)</th>\n",
       "      <th>Council Districts</th>\n",
       "      <th>Zip Codes</th>\n",
       "      <th>LA Specific Plans</th>\n",
       "      <th>Precinct Boundaries</th>\n",
       "      <th>Census Tracts</th>\n",
       "      <th>Duration_log</th>\n",
       "      <th>Distance</th>\n",
       "      <th>Flex Pass</th>\n",
       "      <th>Monthly Pass</th>\n",
       "      <th>Walk-up</th>\n",
       "    </tr>\n",
       "  </thead>\n",
       "  <tbody>\n",
       "    <tr>\n",
       "      <th>2352</th>\n",
       "      <td>11688972</td>\n",
       "      <td>720</td>\n",
       "      <td>2016-10-29T14:09:00.000</td>\n",
       "      <td>2016-10-29T14:21:00.000</td>\n",
       "      <td>3055.0</td>\n",
       "      <td>34.044159</td>\n",
       "      <td>-118.251579</td>\n",
       "      <td>3068.0</td>\n",
       "      <td>34.053200</td>\n",
       "      <td>-118.250954</td>\n",
       "      <td>6188.0</td>\n",
       "      <td>0.0</td>\n",
       "      <td>One Way</td>\n",
       "      <td>Walk-up</td>\n",
       "      <td>{'longitude': '-118.251579', 'latitude': '34.0...</td>\n",
       "      <td>{'longitude': '-118.250954', 'latitude': '34.0...</td>\n",
       "      <td>76.0</td>\n",
       "      <td>9.0</td>\n",
       "      <td>23075.0</td>\n",
       "      <td>37.0</td>\n",
       "      <td>1183.0</td>\n",
       "      <td>545.0</td>\n",
       "      <td>6.579251</td>\n",
       "      <td>1.006961</td>\n",
       "      <td>0</td>\n",
       "      <td>0</td>\n",
       "      <td>1</td>\n",
       "    </tr>\n",
       "    <tr>\n",
       "      <th>2354</th>\n",
       "      <td>15969970</td>\n",
       "      <td>360</td>\n",
       "      <td>2016-12-14T17:21:00.000</td>\n",
       "      <td>2016-12-14T17:27:00.000</td>\n",
       "      <td>3030.0</td>\n",
       "      <td>34.051941</td>\n",
       "      <td>-118.243530</td>\n",
       "      <td>3014.0</td>\n",
       "      <td>34.056610</td>\n",
       "      <td>-118.237213</td>\n",
       "      <td>6521.0</td>\n",
       "      <td>0.0</td>\n",
       "      <td>One Way</td>\n",
       "      <td>Walk-up</td>\n",
       "      <td>{'longitude': '-118.24353', 'latitude': '34.05...</td>\n",
       "      <td>{'longitude': '-118.237213', 'latitude': '34.0...</td>\n",
       "      <td>76.0</td>\n",
       "      <td>9.0</td>\n",
       "      <td>22728.0</td>\n",
       "      <td>27.0</td>\n",
       "      <td>1322.0</td>\n",
       "      <td>532.0</td>\n",
       "      <td>5.886104</td>\n",
       "      <td>0.779880</td>\n",
       "      <td>0</td>\n",
       "      <td>0</td>\n",
       "      <td>1</td>\n",
       "    </tr>\n",
       "    <tr>\n",
       "      <th>2370</th>\n",
       "      <td>14708324</td>\n",
       "      <td>420</td>\n",
       "      <td>2016-11-29T14:27:00.000</td>\n",
       "      <td>2016-11-29T14:34:00.000</td>\n",
       "      <td>3030.0</td>\n",
       "      <td>34.051941</td>\n",
       "      <td>-118.243530</td>\n",
       "      <td>3014.0</td>\n",
       "      <td>34.056610</td>\n",
       "      <td>-118.237213</td>\n",
       "      <td>6521.0</td>\n",
       "      <td>30.0</td>\n",
       "      <td>One Way</td>\n",
       "      <td>Monthly Pass</td>\n",
       "      <td>{'longitude': '-118.24353', 'latitude': '34.05...</td>\n",
       "      <td>{'longitude': '-118.237213', 'latitude': '34.0...</td>\n",
       "      <td>76.0</td>\n",
       "      <td>9.0</td>\n",
       "      <td>22728.0</td>\n",
       "      <td>27.0</td>\n",
       "      <td>1322.0</td>\n",
       "      <td>532.0</td>\n",
       "      <td>6.040255</td>\n",
       "      <td>0.779880</td>\n",
       "      <td>0</td>\n",
       "      <td>1</td>\n",
       "      <td>0</td>\n",
       "    </tr>\n",
       "    <tr>\n",
       "      <th>2386</th>\n",
       "      <td>10985299</td>\n",
       "      <td>1980</td>\n",
       "      <td>2016-10-22T14:11:00.000</td>\n",
       "      <td>2016-10-22T14:44:00.000</td>\n",
       "      <td>3078.0</td>\n",
       "      <td>34.064281</td>\n",
       "      <td>-118.238937</td>\n",
       "      <td>3049.0</td>\n",
       "      <td>34.056969</td>\n",
       "      <td>-118.253593</td>\n",
       "      <td>6061.0</td>\n",
       "      <td>0.0</td>\n",
       "      <td>One Way</td>\n",
       "      <td>Walk-up</td>\n",
       "      <td>{'longitude': '-118.238937', 'latitude': '34.0...</td>\n",
       "      <td>{'longitude': '-118.253593', 'latitude': '34.0...</td>\n",
       "      <td>28.0</td>\n",
       "      <td>11.0</td>\n",
       "      <td>22728.0</td>\n",
       "      <td>37.0</td>\n",
       "      <td>1262.0</td>\n",
       "      <td>544.0</td>\n",
       "      <td>7.590852</td>\n",
       "      <td>1.576014</td>\n",
       "      <td>0</td>\n",
       "      <td>0</td>\n",
       "      <td>1</td>\n",
       "    </tr>\n",
       "    <tr>\n",
       "      <th>2398</th>\n",
       "      <td>14105305</td>\n",
       "      <td>420</td>\n",
       "      <td>2016-11-21T17:43:00.000</td>\n",
       "      <td>2016-11-21T17:50:00.000</td>\n",
       "      <td>3030.0</td>\n",
       "      <td>34.051941</td>\n",
       "      <td>-118.243530</td>\n",
       "      <td>3014.0</td>\n",
       "      <td>34.056610</td>\n",
       "      <td>-118.237213</td>\n",
       "      <td>6283.0</td>\n",
       "      <td>30.0</td>\n",
       "      <td>One Way</td>\n",
       "      <td>Monthly Pass</td>\n",
       "      <td>{'longitude': '-118.24353', 'latitude': '34.05...</td>\n",
       "      <td>{'longitude': '-118.237213', 'latitude': '34.0...</td>\n",
       "      <td>76.0</td>\n",
       "      <td>9.0</td>\n",
       "      <td>22728.0</td>\n",
       "      <td>27.0</td>\n",
       "      <td>1322.0</td>\n",
       "      <td>532.0</td>\n",
       "      <td>6.040255</td>\n",
       "      <td>0.779880</td>\n",
       "      <td>0</td>\n",
       "      <td>1</td>\n",
       "      <td>0</td>\n",
       "    </tr>\n",
       "  </tbody>\n",
       "</table>\n",
       "</div>"
      ],
      "text/plain": [
       "       Trip ID  Duration               Start Time                 End Time  \\\n",
       "2352  11688972       720  2016-10-29T14:09:00.000  2016-10-29T14:21:00.000   \n",
       "2354  15969970       360  2016-12-14T17:21:00.000  2016-12-14T17:27:00.000   \n",
       "2370  14708324       420  2016-11-29T14:27:00.000  2016-11-29T14:34:00.000   \n",
       "2386  10985299      1980  2016-10-22T14:11:00.000  2016-10-22T14:44:00.000   \n",
       "2398  14105305       420  2016-11-21T17:43:00.000  2016-11-21T17:50:00.000   \n",
       "\n",
       "      Starting Station ID  Starting Station Latitude  \\\n",
       "2352               3055.0                  34.044159   \n",
       "2354               3030.0                  34.051941   \n",
       "2370               3030.0                  34.051941   \n",
       "2386               3078.0                  34.064281   \n",
       "2398               3030.0                  34.051941   \n",
       "\n",
       "      Starting Station Longitude  Ending Station ID  Ending Station Latitude  \\\n",
       "2352                 -118.251579             3068.0                34.053200   \n",
       "2354                 -118.243530             3014.0                34.056610   \n",
       "2370                 -118.243530             3014.0                34.056610   \n",
       "2386                 -118.238937             3049.0                34.056969   \n",
       "2398                 -118.243530             3014.0                34.056610   \n",
       "\n",
       "      Ending Station Longitude  Bike ID  Plan Duration Trip Route Category  \\\n",
       "2352               -118.250954   6188.0            0.0             One Way   \n",
       "2354               -118.237213   6521.0            0.0             One Way   \n",
       "2370               -118.237213   6521.0           30.0             One Way   \n",
       "2386               -118.253593   6061.0            0.0             One Way   \n",
       "2398               -118.237213   6283.0           30.0             One Way   \n",
       "\n",
       "     Passholder Type                                  Starting Lat-Long  \\\n",
       "2352         Walk-up  {'longitude': '-118.251579', 'latitude': '34.0...   \n",
       "2354         Walk-up  {'longitude': '-118.24353', 'latitude': '34.05...   \n",
       "2370    Monthly Pass  {'longitude': '-118.24353', 'latitude': '34.05...   \n",
       "2386         Walk-up  {'longitude': '-118.238937', 'latitude': '34.0...   \n",
       "2398    Monthly Pass  {'longitude': '-118.24353', 'latitude': '34.05...   \n",
       "\n",
       "                                        Ending Lat-Long  \\\n",
       "2352  {'longitude': '-118.250954', 'latitude': '34.0...   \n",
       "2354  {'longitude': '-118.237213', 'latitude': '34.0...   \n",
       "2370  {'longitude': '-118.237213', 'latitude': '34.0...   \n",
       "2386  {'longitude': '-118.253593', 'latitude': '34.0...   \n",
       "2398  {'longitude': '-118.237213', 'latitude': '34.0...   \n",
       "\n",
       "      Neighborhood Councils (Certified)  Council Districts  Zip Codes  \\\n",
       "2352                               76.0                9.0    23075.0   \n",
       "2354                               76.0                9.0    22728.0   \n",
       "2370                               76.0                9.0    22728.0   \n",
       "2386                               28.0               11.0    22728.0   \n",
       "2398                               76.0                9.0    22728.0   \n",
       "\n",
       "      LA Specific Plans  Precinct Boundaries  Census Tracts  Duration_log  \\\n",
       "2352               37.0               1183.0          545.0      6.579251   \n",
       "2354               27.0               1322.0          532.0      5.886104   \n",
       "2370               27.0               1322.0          532.0      6.040255   \n",
       "2386               37.0               1262.0          544.0      7.590852   \n",
       "2398               27.0               1322.0          532.0      6.040255   \n",
       "\n",
       "      Distance  Flex Pass  Monthly Pass  Walk-up  \n",
       "2352  1.006961          0             0        1  \n",
       "2354  0.779880          0             0        1  \n",
       "2370  0.779880          0             1        0  \n",
       "2386  1.576014          0             0        1  \n",
       "2398  0.779880          0             1        0  "
      ]
     },
     "execution_count": 103,
     "metadata": {},
     "output_type": "execute_result"
    }
   ],
   "source": [
    "df1_copy = pd.concat([df1_copy,pd.get_dummies(df1_copy['Passholder Type'])],axis = 1)\n",
    "df1_copy.head()"
   ]
  },
  {
   "cell_type": "code",
   "execution_count": 166,
   "metadata": {},
   "outputs": [],
   "source": [
    "from sklearn.metrics import confusion_matrix\n",
    "X = df1_copy[['Duration_log','Distance']]\n",
    "\n",
    "def split_predict(X,columns,model=LogisticRegression(),metric = accuracy_score):\n",
    "    for column in columns:\n",
    "        y = df1_copy[column]\n",
    "        X_train, X_test, y_train, y_test = train_test_split(X,y,test_size = 0.3, random_state = 2000)\n",
    "        model.fit(X_train,y_train)\n",
    "        y_pred = model.predict(X_test)\n",
    "        print('Prediction for column {0}: {1}'.format(column, accuracy_score(y_test,y_pred)))\n",
    "        print('Confuion Matrix for {0}: {1}'.format(column,confusion_matrix(y_test,y_pred)) )"
   ]
  },
  {
   "cell_type": "code",
   "execution_count": 167,
   "metadata": {},
   "outputs": [
    {
     "name": "stdout",
     "output_type": "stream",
     "text": [
      "Prediction for column Flex Pass: 0.9306675266043212\n",
      "Confuion Matrix for Flex Pass: [[2886    0]\n",
      " [ 215    0]]\n",
      "Prediction for column Monthly Pass: 0.7175104804901644\n",
      "Confuion Matrix for Monthly Pass: [[ 441  725]\n",
      " [ 151 1784]]\n",
      "Prediction for column Walk-up: 0.7594324411480168\n",
      "Confuion Matrix for Walk-up: [[2051   99]\n",
      " [ 647  304]]\n"
     ]
    }
   ],
   "source": [
    "#Logistic Regression\n",
    "split_predict(X,['Flex Pass','Monthly Pass','Walk-up'])"
   ]
  },
  {
   "cell_type": "code",
   "execution_count": 168,
   "metadata": {},
   "outputs": [
    {
     "name": "stdout",
     "output_type": "stream",
     "text": [
      "Prediction for column Flex Pass: 0.9148661722025153\n",
      "Confuion Matrix for Flex Pass: [[2797   89]\n",
      " [ 175   40]]\n",
      "Prediction for column Monthly Pass: 0.7062237987745889\n",
      "Confuion Matrix for Monthly Pass: [[ 686  480]\n",
      " [ 431 1504]]\n",
      "Prediction for column Walk-up: 0.7655594969364721\n",
      "Confuion Matrix for Walk-up: [[1865  285]\n",
      " [ 442  509]]\n"
     ]
    }
   ],
   "source": [
    "#Decision Tree Classifier\n",
    "split_predict(X,['Flex Pass','Monthly Pass','Walk-up'],DecisionTreeClassifier())"
   ]
  },
  {
   "cell_type": "code",
   "execution_count": 169,
   "metadata": {},
   "outputs": [
    {
     "name": "stdout",
     "output_type": "stream",
     "text": [
      "Prediction for column Flex Pass: 0.9306675266043212\n",
      "Confuion Matrix for Flex Pass: [[2886    0]\n",
      " [ 215    0]]\n",
      "Prediction for column Monthly Pass: 0.6839729119638827\n",
      "Confuion Matrix for Monthly Pass: [[ 408  758]\n",
      " [ 222 1713]]\n",
      "Prediction for column Walk-up: 0.7349242179941954\n",
      "Confuion Matrix for Walk-up: [[1987  163]\n",
      " [ 659  292]]\n"
     ]
    }
   ],
   "source": [
    "#Naive bayse\n",
    "from sklearn.naive_bayes import GaussianNB\n",
    "split_predict(X,['Flex Pass','Monthly Pass','Walk-up'],GaussianNB())"
   ]
  },
  {
   "cell_type": "code",
   "execution_count": null,
   "metadata": {},
   "outputs": [],
   "source": []
  },
  {
   "cell_type": "code",
   "execution_count": null,
   "metadata": {},
   "outputs": [],
   "source": []
  }
 ],
 "metadata": {
  "kernelspec": {
   "display_name": "Python 3",
   "language": "python",
   "name": "python3"
  },
  "language_info": {
   "codemirror_mode": {
    "name": "ipython",
    "version": 3
   },
   "file_extension": ".py",
   "mimetype": "text/x-python",
   "name": "python",
   "nbconvert_exporter": "python",
   "pygments_lexer": "ipython3",
   "version": "3.7.3"
  }
 },
 "nbformat": 4,
 "nbformat_minor": 2
}
